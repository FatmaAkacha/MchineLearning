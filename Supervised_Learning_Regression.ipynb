{
  "nbformat": 4,
  "nbformat_minor": 0,
  "metadata": {
    "colab": {
      "provenance": [],
      "include_colab_link": true
    },
    "kernelspec": {
      "name": "python3",
      "display_name": "Python 3"
    },
    "language_info": {
      "name": "python"
    }
  },
  "cells": [
    {
      "cell_type": "markdown",
      "metadata": {
        "id": "view-in-github",
        "colab_type": "text"
      },
      "source": [
        "<a href=\"https://colab.research.google.com/github/FatmaAkacha/MchineLearning/blob/main/Supervised_Learning_Regression.ipynb\" target=\"_parent\"><img src=\"https://colab.research.google.com/assets/colab-badge.svg\" alt=\"Open In Colab\"/></a>"
      ]
    },
    {
      "cell_type": "markdown",
      "source": [
        "# **Instruction** **1** **:**"
      ],
      "metadata": {
        "id": "phx3oUaNM_vP"
      }
    },
    {
      "cell_type": "code",
      "source": [
        "import pandas as pd\n",
        "import seaborn as sns\n",
        "import matplotlib.pyplot as plt\n",
        "from sklearn.preprocessing import LabelEncoder\n",
        "from sklearn.model_selection import train_test_split\n",
        "from sklearn.ensemble import RandomForestRegressor\n",
        "from sklearn.metrics import mean_squared_error, mean_absolute_error, r2_score"
      ],
      "metadata": {
        "id": "LbuN-FgPL-g3"
      },
      "execution_count": null,
      "outputs": []
    },
    {
      "cell_type": "code",
      "source": [
        "file_path = '/content/drive/MyDrive/go_mycode/5G_energy_consumption_dataset.csv'\n",
        "data = pd.read_csv(file_path)"
      ],
      "metadata": {
        "id": "hdaj-Q9fME-A"
      },
      "execution_count": null,
      "outputs": []
    },
    {
      "cell_type": "code",
      "source": [
        "# Display general information about the dataset\n",
        "print(\"General Information about the Dataset:\")\n",
        "print(data.info())\n",
        "print(\"\\nDataset Description:\")\n",
        "print(data.describe())\n",
        "print(\"\\nFirst Few Rows of the Dataset:\")\n",
        "print(data.head())"
      ],
      "metadata": {
        "colab": {
          "base_uri": "https://localhost:8080/"
        },
        "id": "bP3hDgOFML4_",
        "outputId": "2748e1d6-7c26-4753-8c7c-f49cb413e34b"
      },
      "execution_count": null,
      "outputs": [
        {
          "output_type": "stream",
          "name": "stdout",
          "text": [
            "General Information about the Dataset:\n",
            "<class 'pandas.core.frame.DataFrame'>\n",
            "RangeIndex: 81228 entries, 0 to 81227\n",
            "Data columns (total 6 columns):\n",
            " #   Column   Non-Null Count  Dtype  \n",
            "---  ------   --------------  -----  \n",
            " 0   Time     81228 non-null  object \n",
            " 1   BS       81228 non-null  int64  \n",
            " 2   Energy   81228 non-null  float64\n",
            " 3   load     81228 non-null  float64\n",
            " 4   ESMODE   81228 non-null  float64\n",
            " 5   TXpower  81228 non-null  float64\n",
            "dtypes: float64(4), int64(1), object(1)\n",
            "memory usage: 3.7+ MB\n",
            "None\n",
            "\n",
            "Dataset Description:\n",
            "                 BS        Energy          load   ESMODE       TXpower\n",
            "count  81228.000000  81228.000000  81228.000000  81228.0  81228.000000\n",
            "mean     415.724664     27.276130      0.223784      0.0      6.743150\n",
            "std      241.030451     11.612207      0.194799      0.0      0.280121\n",
            "min        0.000000      0.747384      0.000000      0.0      5.949178\n",
            "25%      206.000000     18.535127      0.062959      0.0      6.427504\n",
            "50%      419.000000     23.916293      0.164056      0.0      6.875934\n",
            "75%      622.000000     33.632287      0.335714      0.0      6.875934\n",
            "max      882.000000     61.883408      0.786380      0.0      7.325859\n",
            "\n",
            "First Few Rows of the Dataset:\n",
            "              Time  BS     Energy      load  ESMODE   TXpower\n",
            "0  20230101 020000   0  55.904335  0.344468     0.0  7.101719\n",
            "1  20230101 030000   0  57.698057  0.193766     0.0  7.101719\n",
            "2  20230101 040000   0  55.156951  0.222383     0.0  7.101719\n",
            "3  20230101 050000   0  56.053812  0.175436     0.0  7.101719\n",
            "4  20230102 020000   0  55.754858  0.210952     0.0  7.101719\n"
          ]
        }
      ]
    },
    {
      "cell_type": "code",
      "source": [
        "# Handle Missing and Corrupted Values\n",
        "# Checking for missing values\n",
        "print(\"Missing Values in the Dataset:\")\n",
        "print(data.isnull().sum())"
      ],
      "metadata": {
        "colab": {
          "base_uri": "https://localhost:8080/"
        },
        "id": "roLD7ZByMQMj",
        "outputId": "06b9e65b-d35f-4112-d374-53dd0a1b826f"
      },
      "execution_count": null,
      "outputs": [
        {
          "output_type": "stream",
          "name": "stdout",
          "text": [
            "Missing Values in the Dataset:\n",
            "Time       0\n",
            "BS         0\n",
            "Energy     0\n",
            "load       0\n",
            "ESMODE     0\n",
            "TXpower    0\n",
            "dtype: int64\n"
          ]
        }
      ]
    },
    {
      "cell_type": "code",
      "source": [
        "# Remove duplicates\n",
        "print(\"Number of Duplicate Rows in the Dataset:\")\n",
        "print(data.duplicated().sum())\n",
        "data = data.drop_duplicates()\n",
        "print(\"Duplicates removed, if they existed.\")"
      ],
      "metadata": {
        "colab": {
          "base_uri": "https://localhost:8080/"
        },
        "id": "UPpHIZPlMYwS",
        "outputId": "d447b387-06cc-4f68-b096-1f95af86f960"
      },
      "execution_count": null,
      "outputs": [
        {
          "output_type": "stream",
          "name": "stdout",
          "text": [
            "Number of Duplicate Rows in the Dataset:\n",
            "0\n",
            "Duplicates removed, if they existed.\n"
          ]
        }
      ]
    },
    {
      "cell_type": "code",
      "source": [
        "# Handle outliers\n",
        "# Identifying outliers using IQR method\n",
        "def handle_outliers(df, column):\n",
        "    Q1 = df[column].quantile(0.25)\n",
        "    Q3 = df[column].quantile(0.75)\n",
        "    IQR = Q3 - Q1\n",
        "    lower_bound = Q1 - 1.5 * IQR\n",
        "    upper_bound = Q3 + 1.5 * IQR\n",
        "    df = df[(df[column] >= lower_bound) & (df[column] <= upper_bound)]\n",
        "    return df\n",
        "\n",
        "# Apply outlier handling to relevant columns\n",
        "for col in ['Energy', 'load', 'ESMODE', 'TXpower']:\n",
        "    data = handle_outliers(data, col)\n",
        "print(\"Outliers handled, if they existed.\")"
      ],
      "metadata": {
        "colab": {
          "base_uri": "https://localhost:8080/"
        },
        "id": "Wcw-W5S8Mi2E",
        "outputId": "36260b13-5c3a-429b-949f-d29b352a1da4"
      },
      "execution_count": null,
      "outputs": [
        {
          "output_type": "stream",
          "name": "stdout",
          "text": [
            "Outliers handled, if they existed.\n"
          ]
        }
      ]
    },
    {
      "cell_type": "code",
      "source": [
        "# Encode categorical features\n",
        "label_encoder = LabelEncoder()\n",
        "data['BS'] = label_encoder.fit_transform(data['BS'])\n",
        "print(\"Categorical features encoded.\")"
      ],
      "metadata": {
        "colab": {
          "base_uri": "https://localhost:8080/"
        },
        "id": "0yERNsFGMqa4",
        "outputId": "a4263b79-e3bf-410a-acbb-7442381b0dec"
      },
      "execution_count": null,
      "outputs": [
        {
          "output_type": "stream",
          "name": "stdout",
          "text": [
            "Categorical features encoded.\n"
          ]
        }
      ]
    },
    {
      "cell_type": "code",
      "source": [
        "# Visualize data distributions to gain insights\n",
        "plt.figure(figsize=(10, 6))\n",
        "sns.histplot(data['Energy'], kde=True)\n",
        "plt.title('Energy Distribution')\n",
        "plt.show()"
      ],
      "metadata": {
        "colab": {
          "base_uri": "https://localhost:8080/",
          "height": 564
        },
        "id": "Hgms978SbUWv",
        "outputId": "6599214b-74f8-4e57-ee01-5994dfede84f"
      },
      "execution_count": null,
      "outputs": [
        {
          "output_type": "display_data",
          "data": {
            "text/plain": [
              "<Figure size 1000x600 with 1 Axes>"
            ],
            "image/png": "[encoded data removed]"
          },
          "metadata": {}
        }
      ]
    },
    {
      "cell_type": "markdown",
      "source": [
        "# **Instruction 2 :**"
      ],
      "metadata": {
        "id": "Bm5mEAe7Mzxt"
      }
    },
    {
      "cell_type": "code",
      "source": [
        "# Select target variable and features\n",
        "target = 'Energy'\n",
        "features = ['BS', 'load', 'ESMODE', 'TXpower']\n",
        "\n",
        "X = data[features]\n",
        "y = data[target]\n",
        "\n",
        "print(\"Features and Target Variable Selected:\")\n",
        "print(\"Features:\", features)\n",
        "print(\"Target:\", target)"
      ],
      "metadata": {
        "colab": {
          "base_uri": "https://localhost:8080/"
        },
        "id": "6ubsiwC8J-EA",
        "outputId": "f87d71e2-c08d-4b83-fc97-84e93d2fc654"
      },
      "execution_count": null,
      "outputs": [
        {
          "output_type": "stream",
          "name": "stdout",
          "text": [
            "Features and Target Variable Selected:\n",
            "Features: ['BS', 'load', 'ESMODE', 'TXpower']\n",
            "Target: Energy\n"
          ]
        }
      ]
    },
    {
      "cell_type": "markdown",
      "source": [
        "# **Instruction 3 :**"
      ],
      "metadata": {
        "id": "DJM9HGCaNsZi"
      }
    },
    {
      "cell_type": "code",
      "source": [
        "# Split the data into training and test sets\n",
        "X_train, X_test, y_train, y_test = train_test_split(X, y, test_size=0.2, random_state=42)\n",
        "print(\"Data Split into Training and Test Sets.\")\n",
        "print(\"Training Set Size:\", X_train.shape)\n",
        "print(\"Test Set Size:\", X_test.shape)"
      ],
      "metadata": {
        "colab": {
          "base_uri": "https://localhost:8080/"
        },
        "id": "hLwZ2QN6PaXS",
        "outputId": "9ba90dc4-b61b-4f60-c9f5-af1e1902952b"
      },
      "execution_count": null,
      "outputs": [
        {
          "output_type": "stream",
          "name": "stdout",
          "text": [
            "Data Split into Training and Test Sets.\n",
            "Training Set Size: (62704, 4)\n",
            "Test Set Size: (15676, 4)\n"
          ]
        }
      ]
    },
    {
      "cell_type": "markdown",
      "source": [
        "# **Instruction** **4 :**"
      ],
      "metadata": {
        "id": "gE25pjCjN_J_"
      }
    },
    {
      "cell_type": "code",
      "source": [
        "from sklearn.linear_model import LinearRegression\n",
        "\n",
        "model = LinearRegression()\n",
        "model.fit(X_train, y_train)"
      ],
      "metadata": {
        "colab": {
          "base_uri": "https://localhost:8080/",
          "height": 74
        },
        "id": "w1kJG44hKopU",
        "outputId": "de4232e2-218d-449b-a745-30360b6a8f64"
      },
      "execution_count": null,
      "outputs": [
        {
          "output_type": "execute_result",
          "data": {
            "text/plain": [
              "LinearRegression()"
            ],
            "text/html": [
              "<style>#sk-container-id-4 {color: black;background-color: white;}#sk-container-id-4 pre{padding: 0;}#sk-container-id-4 div.sk-toggleable {background-color: white;}#sk-container-id-4 label.sk-toggleable__label {cursor: pointer;display: block;width: 100%;margin-bottom: 0;padding: 0.3em;box-sizing: border-box;text-align: center;}#sk-container-id-4 label.sk-toggleable__label-arrow:before {content: \"▸\";float: left;margin-right: 0.25em;color: #696969;}#sk-container-id-4 label.sk-toggleable__label-arrow:hover:before {color: black;}#sk-container-id-4 div.sk-estimator:hover label.sk-toggleable__label-arrow:before {color: black;}#sk-container-id-4 div.sk-toggleable__content {max-height: 0;max-width: 0;overflow: hidden;text-align: left;background-color: #f0f8ff;}#sk-container-id-4 div.sk-toggleable__content pre {margin: 0.2em;color: black;border-radius: 0.25em;background-color: #f0f8ff;}#sk-container-id-4 input.sk-toggleable__control:checked~div.sk-toggleable__content {max-height: 200px;max-width: 100%;overflow: auto;}#sk-container-id-4 input.sk-toggleable__control:checked~label.sk-toggleable__label-arrow:before {content: \"▾\";}#sk-container-id-4 div.sk-estimator input.sk-toggleable__control:checked~label.sk-toggleable__label {background-color: #d4ebff;}#sk-container-id-4 div.sk-label input.sk-toggleable__control:checked~label.sk-toggleable__label {background-color: #d4ebff;}#sk-container-id-4 input.sk-hidden--visually {border: 0;clip: rect(1px 1px 1px 1px);clip: rect(1px, 1px, 1px, 1px);height: 1px;margin: -1px;overflow: hidden;padding: 0;position: absolute;width: 1px;}#sk-container-id-4 div.sk-estimator {font-family: monospace;background-color: #f0f8ff;border: 1px dotted black;border-radius: 0.25em;box-sizing: border-box;margin-bottom: 0.5em;}#sk-container-id-4 div.sk-estimator:hover {background-color: #d4ebff;}#sk-container-id-4 div.sk-parallel-item::after {content: \"\";width: 100%;border-bottom: 1px solid gray;flex-grow: 1;}#sk-container-id-4 div.sk-label:hover label.sk-toggleable__label {background-color: #d4ebff;}#sk-container-id-4 div.sk-serial::before {content: \"\";position: absolute;border-left: 1px solid gray;box-sizing: border-box;top: 0;bottom: 0;left: 50%;z-index: 0;}#sk-container-id-4 div.sk-serial {display: flex;flex-direction: column;align-items: center;background-color: white;padding-right: 0.2em;padding-left: 0.2em;position: relative;}#sk-container-id-4 div.sk-item {position: relative;z-index: 1;}#sk-container-id-4 div.sk-parallel {display: flex;align-items: stretch;justify-content: center;background-color: white;position: relative;}#sk-container-id-4 div.sk-item::before, #sk-container-id-4 div.sk-parallel-item::before {content: \"\";position: absolute;border-left: 1px solid gray;box-sizing: border-box;top: 0;bottom: 0;left: 50%;z-index: -1;}#sk-container-id-4 div.sk-parallel-item {display: flex;flex-direction: column;z-index: 1;position: relative;background-color: white;}#sk-container-id-4 div.sk-parallel-item:first-child::after {align-self: flex-end;width: 50%;}#sk-container-id-4 div.sk-parallel-item:last-child::after {align-self: flex-start;width: 50%;}#sk-container-id-4 div.sk-parallel-item:only-child::after {width: 0;}#sk-container-id-4 div.sk-dashed-wrapped {border: 1px dashed gray;margin: 0 0.4em 0.5em 0.4em;box-sizing: border-box;padding-bottom: 0.4em;background-color: white;}#sk-container-id-4 div.sk-label label {font-family: monospace;font-weight: bold;display: inline-block;line-height: 1.2em;}#sk-container-id-4 div.sk-label-container {text-align: center;}#sk-container-id-4 div.sk-container {/* jupyter's `normalize.less` sets `[hidden] { display: none; }` but bootstrap.min.css set `[hidden] { display: none !important; }` so we also need the `!important` here to be able to override the default hidden behavior on the sphinx rendered scikit-learn.org. See: https://github.com/scikit-learn/scikit-learn/issues/21755 */display: inline-block !important;position: relative;}#sk-container-id-4 div.sk-text-repr-fallback {display: none;}</style><div id=\"sk-container-id-4\" class=\"sk-top-container\"><div class=\"sk-text-repr-fallback\"><pre>LinearRegression()</pre><b>In a Jupyter environment, please rerun this cell to show the HTML representation or trust the notebook. <br />On GitHub, the HTML representation is unable to render, please try loading this page with nbviewer.org.</b></div><div class=\"sk-container\" hidden><div class=\"sk-item\"><div class=\"sk-estimator sk-toggleable\"><input class=\"sk-toggleable__control sk-hidden--visually\" id=\"sk-estimator-id-4\" type=\"checkbox\" checked><label for=\"sk-estimator-id-4\" class=\"sk-toggleable__label sk-toggleable__label-arrow\">LinearRegression</label><div class=\"sk-toggleable__content\"><pre>LinearRegression()</pre></div></div></div></div></div>"
            ]
          },
          "metadata": {},
          "execution_count": 58
        }
      ]
    },
    {
      "cell_type": "markdown",
      "source": [
        "# **Instruction 5 :**"
      ],
      "metadata": {
        "id": "KLc-49OUOi5a"
      }
    },
    {
      "cell_type": "code",
      "source": [
        "# Make predictions\n",
        "y_pred = model.predict(X_test)\n",
        "\n",
        "# Evaluate using relevant metrics\n",
        "mse = mean_squared_error(y_test, y_pred)\n",
        "r2 = r2_score(y_test, y_pred)\n",
        "\n",
        "print(f\"Mean Squared Error: {mse}\")\n",
        "print(f\"R^2 Score: {r2}\")\n"
      ],
      "metadata": {
        "colab": {
          "base_uri": "https://localhost:8080/"
        },
        "id": "n4WKcS2LQEoJ",
        "outputId": "39aeeca8-4c7e-4add-a497-ca6dc612ed44"
      },
      "execution_count": null,
      "outputs": [
        {
          "output_type": "stream",
          "name": "stdout",
          "text": [
            "Mean Squared Error: 65.81888958152442\n",
            "R^2 Score: 0.4268791772966053\n"
          ]
        }
      ]
    },
    {
      "cell_type": "markdown",
      "source": [
        "# **Instruction 6 :**"
      ],
      "metadata": {
        "id": "S_FH97NYO5Dr"
      }
    },
    {
      "cell_type": "markdown",
      "source": [
        "**Multi-linear Regression**"
      ],
      "metadata": {
        "id": "9lMLnUGVbfdW"
      }
    },
    {
      "cell_type": "code",
      "source": [
        "from sklearn.linear_model import LinearRegression\n",
        "\n",
        "# Assuming X_train, X_test, y_train, y_test are already defined\n",
        "model = LinearRegression()\n",
        "model.fit(X_train, y_train)\n",
        "y_pred = model.predict(X_test)\n",
        "\n",
        "# Evaluate model performance\n",
        "mse = mean_squared_error(y_test, y_pred)\n",
        "r2 = r2_score(y_test, y_pred)\n",
        "\n",
        "print(f\"Multi-linear Regression Mean Squared Error: {mse}\")\n",
        "print(f\"Multi-linear Regression R^2 Score: {r2}\")\n"
      ],
      "metadata": {
        "colab": {
          "base_uri": "https://localhost:8080/"
        },
        "id": "MKKL9bgnaDF_",
        "outputId": "2755daf3-5518-4efa-edd1-6f21231951b4"
      },
      "execution_count": null,
      "outputs": [
        {
          "output_type": "stream",
          "name": "stdout",
          "text": [
            "Multi-linear Regression Mean Squared Error: 65.81888958152442\n",
            "Multi-linear Regression R^2 Score: 0.4268791772966053\n"
          ]
        }
      ]
    },
    {
      "cell_type": "markdown",
      "source": [
        "**Polynomial Regression**"
      ],
      "metadata": {
        "id": "cg0gZtf6bZnT"
      }
    },
    {
      "cell_type": "code",
      "source": [
        "from sklearn.preprocessing import PolynomialFeatures\n",
        "from sklearn.pipeline import make_pipeline\n",
        "\n",
        "# Assuming X_train, X_test, y_train, y_test are already defined\n",
        "degree = 2  # Example degree, you can choose based on validation\n",
        "model = make_pipeline(PolynomialFeatures(degree), LinearRegression())\n",
        "model.fit(X_train, y_train)\n",
        "y_pred = model.predict(X_test)\n",
        "\n",
        "# Evaluate model performance\n",
        "mse = mean_squared_error(y_test, y_pred)\n",
        "r2 = r2_score(y_test, y_pred)\n",
        "\n",
        "print(f\"Polynomial Regression (Degree {degree}) Mean Squared Error: {mse}\")\n",
        "print(f\"Polynomial Regression (Degree {degree}) R^2 Score: {r2}\")\n"
      ],
      "metadata": {
        "colab": {
          "base_uri": "https://localhost:8080/"
        },
        "id": "cdPKGt_FaGKQ",
        "outputId": "b946d1a4-37df-46d0-e401-d6be727c4d6e"
      },
      "execution_count": null,
      "outputs": [
        {
          "output_type": "stream",
          "name": "stdout",
          "text": [
            "Polynomial Regression (Degree 2) Mean Squared Error: 59.87515090187666\n",
            "Polynomial Regression (Degree 2) R^2 Score: 0.478634538465292\n"
          ]
        }
      ]
    }
  ]
}