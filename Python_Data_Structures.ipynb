{
  "nbformat": 4,
  "nbformat_minor": 0,
  "metadata": {
    "colab": {
      "provenance": [],
      "authorship_tag": "ABX9TyMqURhZU6YEoAP24Hqrb91a",
      "include_colab_link": true
    },
    "kernelspec": {
      "name": "python3",
      "display_name": "Python 3"
    },
    "language_info": {
      "name": "python"
    }
  },
  "cells": [
    {
      "cell_type": "markdown",
      "metadata": {
        "id": "view-in-github",
        "colab_type": "text"
      },
      "source": [
        "<a href=\"https://colab.research.google.com/github/FatmaAkacha/MchineLearning/blob/main/Python_Data_Structures.ipynb\" target=\"_parent\"><img src=\"https://colab.research.google.com/assets/colab-badge.svg\" alt=\"Open In Colab\"/></a>"
      ]
    },
    {
      "cell_type": "code",
      "execution_count": null,
      "metadata": {
        "id": "Ayw1qt5xJu0H",
        "colab": {
          "base_uri": "https://localhost:8080/"
        },
        "outputId": "dca03ba4-c240-47db-b1fe-62a5840ab738"
      },
      "outputs": [
        {
          "output_type": "stream",
          "name": "stdout",
          "text": [
            "\n",
            "Shopping List Menu:\n",
            "1. Add item\n",
            "2. Remove item\n",
            "3. View list\n",
            "4. Exit\n",
            "Enter your choice (1-4): 1\n",
            "Enter the item to add: sugar\n",
            "'sugar' added to the shopping list.\n",
            "\n",
            "Shopping List Menu:\n",
            "1. Add item\n",
            "2. Remove item\n",
            "3. View list\n",
            "4. Exit\n",
            "Enter your choice (1-4): 1\n",
            "Enter the item to add: jus\n",
            "'jus' added to the shopping list.\n",
            "\n",
            "Shopping List Menu:\n",
            "1. Add item\n",
            "2. Remove item\n",
            "3. View list\n",
            "4. Exit\n",
            "Enter your choice (1-4): 3\n",
            "Here is your shopping list:\n",
            "1. sugar\n",
            "2. jus\n",
            "\n",
            "Shopping List Menu:\n",
            "1. Add item\n",
            "2. Remove item\n",
            "3. View list\n",
            "4. Exit\n",
            "Enter your choice (1-4): 2\n",
            "Enter the item to remove: sugar\n",
            "'sugar' removed from the shopping list.\n",
            "\n",
            "Shopping List Menu:\n",
            "1. Add item\n",
            "2. Remove item\n",
            "3. View list\n",
            "4. Exit\n",
            "Enter your choice (1-4): 3\n",
            "Here is your shopping list:\n",
            "1. jus\n",
            "\n",
            "Shopping List Menu:\n",
            "1. Add item\n",
            "2. Remove item\n",
            "3. View list\n",
            "4. Exit\n",
            "Enter your choice (1-4): 4\n",
            "Exiting the program...\n"
          ]
        }
      ],
      "source": [
        "def main():\n",
        "    shopping_list = []\n",
        "\n",
        "    while True:\n",
        "        print(\"\\nShopping List Menu:\")\n",
        "        print(\"1. Add item\")\n",
        "        print(\"2. Remove item\")\n",
        "        print(\"3. View list\")\n",
        "        print(\"4. Exit\")\n",
        "\n",
        "        choice = input(\"Enter your choice (1-4): \")\n",
        "\n",
        "        if choice == '1':\n",
        "            if len(shopping_list) >= 5:\n",
        "                print(\"You have reached the maximum limit of items (5).\")\n",
        "            else:\n",
        "                item = input(\"Enter the item to add: \")\n",
        "                shopping_list.append(item)\n",
        "                print(f\"'{item}' added to the shopping list.\")\n",
        "\n",
        "        elif choice == '2':\n",
        "            if len(shopping_list) == 0:\n",
        "                print(\"The shopping list is empty.\")\n",
        "            else:\n",
        "                item = input(\"Enter the item to remove: \")\n",
        "                if item in shopping_list:\n",
        "                    shopping_list.remove(item)\n",
        "                    print(f\"'{item}' removed from the shopping list.\")\n",
        "                else:\n",
        "                    print(f\"'{item}' not found in the shopping list.\")\n",
        "\n",
        "        elif choice == '3':\n",
        "            if len(shopping_list) == 0:\n",
        "                print(\"The shopping list is empty.\")\n",
        "            else:\n",
        "                print(\"Here is your shopping list:\")\n",
        "                for index, item in enumerate(shopping_list, start=1):\n",
        "                    print(f\"{index}. {item}\")\n",
        "\n",
        "        elif choice == '4':\n",
        "            print(\"Exiting the program...\")\n",
        "            break\n",
        "\n",
        "        else:\n",
        "            print(\"Invalid choice! Please enter a number between 1 and 4.\")\n",
        "\n",
        "if __name__ == \"__main__\":\n",
        "    main()"
      ]
    }
  ]
}